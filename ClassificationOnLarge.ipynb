{
 "cells": [
  {
   "cell_type": "code",
   "execution_count": 1,
   "id": "38be74d5",
   "metadata": {
    "ExecuteTime": {
     "end_time": "2025-06-05T21:13:05.268443Z",
     "start_time": "2025-06-05T21:13:05.252396Z"
    }
   },
   "outputs": [],
   "source": [
    "import pandas as pd\n",
    "import numpy as np\n",
    "from sklearn.model_selection import train_test_split\n",
    "from sklearn.metrics import accuracy_score\n",
    "\n",
    "pd.set_option('future.no_silent_downcasting', True)"
   ]
  },
  {
   "cell_type": "code",
   "execution_count": 2,
   "id": "36ebd1d4",
   "metadata": {
    "ExecuteTime": {
     "end_time": "2025-06-05T21:13:05.516492Z",
     "start_time": "2025-06-05T21:13:05.272442Z"
    }
   },
   "outputs": [
    {
     "name": "stdout",
     "output_type": "stream",
     "text": [
      "Train accuracy (large): 1.000\n",
      "Test accuracy (large): 0.641\n",
      "Feature importances (large dataset):\n",
      "pH (1. gaz. 3 TISS)                             0.235391\n",
      "BE (1. gaz. 1sza doba)                          0.058982\n",
      "temperatura ciała przy przyjęciu (TISS nr 1)    0.049927\n",
      "Bil (1. gaz. 3 TISS)                            0.046685\n",
      "Cl (1. gaz. 1 TISS)                             0.045277\n",
      "                                                  ...   \n",
      "average valeu ofscd 3tiss                       0.000000\n",
      "SCD<30 average                                  0.000000\n",
      "scd<30 tiss1                                    0.000000\n",
      "Sepsa                                           0.000000\n",
      "Sepsa (0/1)                                     0.000000\n",
      "Length: 163, dtype: float64\n"
     ]
    }
   ],
   "source": [
    "from sklearn.tree import DecisionTreeClassifier\n",
    "\n",
    "df_large = pd.read_csv('MPSI_large.csv', sep='\\t', encoding='utf-8')\n",
    "\n",
    "# Prepare as before: drop unnecessary columns\n",
    "zgon_df_large = df_large.drop(columns=['KG', 'follow up 30 dni'], errors='ignore')\n",
    "\n",
    "# Prepare features and target\n",
    "X_zgon_large = zgon_df_large.drop(columns=['zgon'])\n",
    "y_zgon_large = zgon_df_large['zgon']\n",
    "\n",
    "# Preprocess object columns\n",
    "for col in X_zgon_large.select_dtypes(include='object').columns:\n",
    "    X_zgon_large[col] = X_zgon_large[col].replace('Nie znaleziono', np.nan)\n",
    "   \n",
    "    X_zgon_large[col] = X_zgon_large[col].str.replace(',', '.')\n",
    "    X_zgon_large[col] = X_zgon_large[col].replace('M', 0)\n",
    "    X_zgon_large[col] = X_zgon_large[col].replace('K', 1)\n",
    "    X_zgon_large[col] = pd.to_numeric(X_zgon_large[col], errors='coerce')\n",
    "    \n",
    "# Split the data\n",
    "X_train_large, X_test_large, y_train_large, y_test_large = train_test_split(\n",
    "    X_zgon_large, y_zgon_large, test_size=0.2, random_state=42, stratify=y_zgon_large\n",
    ")\n",
    "\n",
    "# Train decision tree\n",
    "clf_large = DecisionTreeClassifier( random_state=42)\n",
    "clf_large.fit(X_train_large, y_train_large)\n",
    "\n",
    "# Evaluate\n",
    "y_train_pred_large = clf_large.predict(X_train_large)\n",
    "y_test_pred_large = clf_large.predict(X_test_large)\n",
    "acc_train_large = accuracy_score(y_train_large, y_train_pred_large)\n",
    "acc_test_large = accuracy_score(y_test_large, y_test_pred_large)\n",
    "print(f\"Train accuracy (large): {acc_train_large:.3f}\")\n",
    "print(f\"Test accuracy (large): {acc_test_large:.3f}\")\n",
    "\n",
    "# Feature importances\n",
    "importances_large = pd.Series(clf_large.feature_importances_, index=X_train_large.columns)\n",
    "print(\"Feature importances (large dataset):\")\n",
    "print(importances_large.sort_values(ascending=False))"
   ]
  },
  {
   "cell_type": "code",
   "execution_count": 3,
   "id": "6778511e",
   "metadata": {
    "ExecuteTime": {
     "end_time": "2025-06-05T21:13:07.017412Z",
     "start_time": "2025-06-05T21:13:05.519249Z"
    }
   },
   "outputs": [
    {
     "name": "stdout",
     "output_type": "stream",
     "text": [
      "CatBoost Train Accuracy: 0.889\n",
      "CatBoost Test Accuracy: 0.891\n",
      "CatBoost Feature importances:\n",
      "pH (1. gaz. 3 TISS)                      9.529783\n",
      "SAPS_RAZEM                               7.022840\n",
      "pH (1. gaz. 2 TISS)                      4.765319\n",
      "Lac (1. gaz. 3 TISS)                     4.543735\n",
      "Ca2+ (1. gaz. 1 TISS)                    4.161629\n",
      "Glukoza (1. gaz. 2 TISS)                 3.402984\n",
      "DIUREZA W PIERWSZYCH 24 GODZIN Z TISS    3.275101\n",
      "HCO3 (1. gaz. 2 TISS)                    3.071175\n",
      "Glukoza (1. gaz. 3 TISS)                 2.548784\n",
      "albuminy                                 2.498316\n",
      "BE (1. gaz. 2 TISS)                      2.449735\n",
      "BE (1. gaz. 3 TISS)                      2.290183\n",
      "CTK skurczowe godz. 0.00 TISS nr 3       2.259664\n",
      "bilans płynów TISS 2 (ml) (TISS 2)       1.690703\n",
      "FIO2 (TISS nr 1)                         1.583980\n",
      "mOsm (1. gaz. 3 TISS)                    1.580227\n",
      "Lac (1. gaz. 2 TISS)                     1.572073\n",
      "Bil (1. gaz. 2 TISS)                     1.504704\n",
      "Lac (1. gaz. 1sza doba)                  1.420506\n",
      "BE (1. gaz. 1sza doba)                   1.416154\n",
      "dtype: float64\n"
     ]
    }
   ],
   "source": [
    "from catboost import CatBoostClassifier\n",
    "\n",
    "# Prepare features and target for CatBoost\n",
    "X_cb = X_zgon_large\n",
    "y_cb = y_zgon_large\n",
    "\n",
    "cat_clf_new = CatBoostClassifier(verbose=0, random_state=42, max_depth=2, n_estimators=500)\n",
    "cat_clf_new.fit(X_cb, y_cb)\n",
    "\n",
    "# Evaluate on train\n",
    "y_train_pred_cb = cat_clf_new.predict(X_cb)\n",
    "acc_train_cb = accuracy_score(y_cb, y_train_pred_cb)\n",
    "print(f\"CatBoost Train Accuracy: {acc_train_cb:.3f}\")\n",
    "\n",
    "# Evaluate on test\n",
    "y_test_pred_cb = cat_clf_new.predict(X_test_large)\n",
    "acc_test_cb = accuracy_score(y_test_large, y_test_pred_cb)\n",
    "print(f\"CatBoost Test Accuracy: {acc_test_cb:.3f}\")\n",
    "# Feature importances\n",
    "importances_cb = pd.Series(cat_clf_new.feature_importances_, index=X_cb.columns)\n",
    "print(\"CatBoost Feature importances:\")\n",
    "print(importances_cb.sort_values(ascending=False).head(20))"
   ]
  }
 ],
 "metadata": {
  "kernelspec": {
   "display_name": "base",
   "language": "python",
   "name": "python3"
  },
  "language_info": {
   "codemirror_mode": {
    "name": "ipython",
    "version": 3
   },
   "file_extension": ".py",
   "mimetype": "text/x-python",
   "name": "python",
   "nbconvert_exporter": "python",
   "pygments_lexer": "ipython3",
   "version": "3.12.8"
  }
 },
 "nbformat": 4,
 "nbformat_minor": 5
}
