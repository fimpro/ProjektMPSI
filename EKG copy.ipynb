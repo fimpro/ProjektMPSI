{
 "cells": [
  {
   "cell_type": "code",
   "execution_count": 17,
   "id": "120150d2",
   "metadata": {
    "ExecuteTime": {
     "end_time": "2025-06-05T15:58:22.668055Z",
     "start_time": "2025-06-05T15:58:18.402178Z"
    }
   },
   "outputs": [],
   "source": [
    "import os\n",
    "import json\n",
    "import pandas as pd\n",
    "\n",
    "# Directory containing the JSON files\n",
    "ekg_dir = 'ekg_files'\n",
    "\n",
    "# List to store all DataFrames\n",
    "dfs = []\n",
    "for filename in os.listdir(ekg_dir):\n",
    "    if filename.endswith('.json'):\n",
    "        with open(os.path.join(ekg_dir, filename), 'r', encoding='utf-8') as f:\n",
    "            data = json.load(f)\n",
    "        # Take the first lead (usually \"I\")\n",
    "        if 'leads' in data and len(data['leads']) > 0:\n",
    "            lead = data['leads'][0]\n",
    "            signal = lead.get('signal', [])\n",
    "            # Remove None values from the signal\n",
    "            clean_signal = [x for x in signal if x is not None]\n",
    "            df_tmp = pd.DataFrame({'Signal': clean_signal})\n",
    "            dfs.append([filename.replace('_','/').replace('.json',''), df_tmp])"
   ]
  },
  {
   "cell_type": "code",
   "execution_count": 18,
   "id": "4b414014",
   "metadata": {},
   "outputs": [
    {
     "data": {
      "text/plain": [
       "60"
      ]
     },
     "execution_count": 18,
     "metadata": {},
     "output_type": "execute_result"
    }
   ],
   "source": [
    "len(dfs)"
   ]
  },
  {
   "cell_type": "code",
   "execution_count": 19,
   "id": "91b202aa",
   "metadata": {
    "ExecuteTime": {
     "end_time": "2025-06-05T15:58:22.684549Z",
     "start_time": "2025-06-05T15:58:22.668055Z"
    }
   },
   "outputs": [
    {
     "name": "stdout",
     "output_type": "stream",
     "text": [
      "Shortest signal is from 39879/2021 with length 761\n"
     ]
    }
   ],
   "source": [
    "min_length = float('inf')\n",
    "min_kg = None\n",
    "for kg, signal_df in dfs:\n",
    "    if len(signal_df) < min_length:\n",
    "        min_length = len(signal_df)\n",
    "        min_kg = kg\n",
    "        \n",
    "print(f\"Shortest signal is from {min_kg} with length {min_length}\")\n",
    "\n",
    "for i in range(len(dfs)):\n",
    "    dfs[i][1] = dfs[i][1].iloc[:min_length].reset_index(drop=True)"
   ]
  },
  {
   "cell_type": "code",
   "execution_count": 20,
   "id": "4e64f4aa",
   "metadata": {},
   "outputs": [
    {
     "data": {
      "text/plain": [
       "60"
      ]
     },
     "execution_count": 20,
     "metadata": {},
     "output_type": "execute_result"
    }
   ],
   "source": [
    "len(dfs)"
   ]
  },
  {
   "cell_type": "code",
   "execution_count": 3,
   "id": "4065c0f1",
   "metadata": {
    "ExecuteTime": {
     "end_time": "2025-06-05T15:58:22.731801Z",
     "start_time": "2025-06-05T15:58:22.686650Z"
    }
   },
   "outputs": [],
   "source": [
    "df = pd.read_csv('DANE_mpsi.csv', sep='\\t', encoding='utf-8')\n",
    "\n",
    "kg_to_label = dict(zip(df['KG'], df['zgon']))\n",
    "\n",
    "signal_label_dataset = []\n",
    "for kg, signal_df in dfs:\n",
    "    if kg in kg_to_label:\n",
    "        label = kg_to_label[kg]\n",
    "        signal = signal_df['Signal'].values\n",
    "        signal_label_dataset.append((signal, label))"
   ]
  },
  {
   "cell_type": "code",
   "execution_count": 14,
   "id": "08d97680",
   "metadata": {},
   "outputs": [
    {
     "data": {
      "text/plain": [
       "41"
      ]
     },
     "execution_count": 14,
     "metadata": {},
     "output_type": "execute_result"
    }
   ],
   "source": [
    "len(signal_label_dataset)"
   ]
  },
  {
   "cell_type": "code",
   "execution_count": 25,
   "id": "2ac3ac6b",
   "metadata": {},
   "outputs": [
    {
     "name": "stderr",
     "output_type": "stream",
     "text": [
      "c:\\Users\\Filip\\miniconda3\\Lib\\site-packages\\torch_ecg\\models\\ecg_seq_lab_net.py:54: RuntimeWarning: No config is provided, using default config.\n",
      "  warnings.warn(\"No config is provided, using default config.\", RuntimeWarning)\n"
     ]
    },
    {
     "name": "stdout",
     "output_type": "stream",
     "text": [
      "Epoch 1, Loss: 0.7015\n",
      "Train accuracy: 0.3750 | Test accuracy: 0.4444\n",
      "Epoch 50, Loss: 0.6623\n",
      "Train accuracy: 0.6250 | Test accuracy: 0.5556\n",
      "Epoch 100, Loss: 0.6616\n",
      "Train accuracy: 0.6250 | Test accuracy: 0.5556\n",
      "Epoch 150, Loss: 0.6616\n",
      "Train accuracy: 0.6250 | Test accuracy: 0.5556\n",
      "Epoch 200, Loss: 0.6616\n",
      "Train accuracy: 0.6250 | Test accuracy: 0.5556\n",
      "Epoch 250, Loss: 0.6616\n",
      "Train accuracy: 0.6250 | Test accuracy: 0.5556\n",
      "Epoch 300, Loss: 0.6616\n",
      "Train accuracy: 0.6250 | Test accuracy: 0.5556\n",
      "Epoch 350, Loss: 0.6616\n",
      "Train accuracy: 0.6250 | Test accuracy: 0.5556\n",
      "Epoch 400, Loss: 0.6616\n",
      "Train accuracy: 0.6250 | Test accuracy: 0.5556\n",
      "Epoch 450, Loss: 0.6616\n",
      "Train accuracy: 0.6250 | Test accuracy: 0.5556\n",
      "Epoch 500, Loss: 0.6616\n",
      "Train accuracy: 0.6250 | Test accuracy: 0.5556\n",
      "Epoch 550, Loss: 0.6616\n",
      "Train accuracy: 0.6250 | Test accuracy: 0.5556\n",
      "Epoch 600, Loss: 0.6616\n",
      "Train accuracy: 0.6250 | Test accuracy: 0.5556\n",
      "Epoch 650, Loss: 0.6616\n",
      "Train accuracy: 0.6250 | Test accuracy: 0.5556\n",
      "Epoch 700, Loss: 0.6616\n",
      "Train accuracy: 0.6250 | Test accuracy: 0.5556\n",
      "Epoch 750, Loss: 0.6616\n",
      "Train accuracy: 0.6250 | Test accuracy: 0.5556\n",
      "Epoch 800, Loss: 0.6616\n",
      "Train accuracy: 0.6250 | Test accuracy: 0.5556\n",
      "Epoch 850, Loss: 0.6616\n",
      "Train accuracy: 0.6250 | Test accuracy: 0.5556\n",
      "Epoch 900, Loss: 0.6616\n",
      "Train accuracy: 0.6250 | Test accuracy: 0.5556\n",
      "Epoch 950, Loss: 0.6615\n",
      "Train accuracy: 0.6250 | Test accuracy: 0.5556\n",
      "Epoch 1000, Loss: 0.6615\n",
      "Train accuracy: 0.6250 | Test accuracy: 0.5556\n"
     ]
    }
   ],
   "source": [
    "import torch\n",
    "from torch import nn, optim\n",
    "from torch.utils.data import Dataset\n",
    "from torch_ecg.models.ecg_seq_lab_net import ECG_SEQ_LAB_NET\n",
    "from torch_ecg.cfg import CFG\n",
    "from sklearn.model_selection import train_test_split\n",
    "\n",
    "\n",
    "\n",
    "# Dataset wrapper\n",
    "class SignalDataset(Dataset):\n",
    "    def __init__(self, signal_label_dataset):\n",
    "        self.data = []\n",
    "        self.labels = []\n",
    "        for signal, label in signal_label_dataset:\n",
    "            signal = torch.tensor(signal, dtype=torch.float32)\n",
    "            if signal.shape[0] != 761:\n",
    "                raise ValueError(\"Each signal must be of length 761\")\n",
    "            self.data.append(signal)\n",
    "            self.labels.append(torch.tensor(label, dtype=torch.float32))\n",
    "    def __len__(self):\n",
    "        return len(self.data)\n",
    "    def __getitem__(self, idx):\n",
    "        return self.data[idx], self.labels[idx]\n",
    "\n",
    "# Load dataset\n",
    "dataset = SignalDataset(signal_label_dataset)\n",
    "X = torch.stack([s for s, _ in dataset])  # shape [batch, 761]\n",
    "y = torch.stack([l for _, l in dataset])  # shape [batch]\n",
    "\n",
    "# Prepare model config\n",
    "config = CFG(\n",
    "    input_len=761,\n",
    "    input_channels=1,\n",
    "    classes=1,\n",
    ")\n",
    "\n",
    "# Initialize ECG model\n",
    "embedder = ECG_SEQ_LAB_NET(config,n_leads=1)\n",
    "embedder.eval()\n",
    "\n",
    "# Get embeddings\n",
    "with torch.no_grad():\n",
    "    X_input = X.unsqueeze(1)  # [batch, 1, 761]\n",
    "    output = embedder(X_input)  # [batch, 1, 761]\n",
    "    embeddings = output.mean(dim=-1)  # [batch, 1] → mean pooling\n",
    "    embeddings = embeddings.squeeze(1)  # [batch]\n",
    "\n",
    "# Simple MLP classifier\n",
    "class MLP(nn.Module):\n",
    "    def __init__(self, input_dim):\n",
    "        super().__init__()\n",
    "        self.net = nn.Sequential(\n",
    "            nn.Linear(input_dim, 64),\n",
    "            nn.ReLU(),\n",
    "            nn.Linear(64, 64),\n",
    "            nn.ReLU(),\n",
    "            nn.Linear(64, 1)\n",
    "        )\n",
    "    def forward(self, x):\n",
    "        return self.net(x).squeeze(-1)\n",
    "\n",
    "mlp = MLP(input_dim=95)  # embedding is 1D after mean pooling\n",
    "criterion = nn.BCEWithLogitsLoss()\n",
    "optimizer = optim.Adam(mlp.parameters(), lr=1e-3)\n",
    "# Split embeddings and labels into train and test sets\n",
    "X_train, X_test, y_train, y_test = train_test_split(embeddings, y, test_size=0.2, random_state=42, stratify=y)\n",
    "\n",
    "# Training loop\n",
    "epochs = 1000\n",
    "for epoch in range(epochs):\n",
    "    mlp.train()\n",
    "    optimizer.zero_grad()\n",
    "    outputs = mlp(X_train)\n",
    "    loss = criterion(outputs, y_train)\n",
    "    loss.backward()\n",
    "    optimizer.step()\n",
    "    if (epoch + 1) % 50 == 0 or epoch == 0:\n",
    "        print(f\"Epoch {epoch+1}, Loss: {loss.item():.4f}\")\n",
    "\n",
    "        # Evaluate on train set\n",
    "        mlp.eval()\n",
    "        with torch.no_grad():\n",
    "            train_logits = mlp(X_train)\n",
    "            train_probs = torch.sigmoid(train_logits)\n",
    "            train_preds = (train_probs > 0.5).float()\n",
    "            train_acc = (train_preds == y_train).float().mean().item()\n",
    "\n",
    "            test_logits = mlp(X_test)\n",
    "            test_probs = torch.sigmoid(test_logits)\n",
    "            test_preds = (test_probs > 0.5).float()\n",
    "            test_acc = (test_preds == y_test).float().mean().item()\n",
    "\n",
    "            print(f\"Train accuracy: {train_acc:.4f} | Test accuracy: {test_acc:.4f}\")\n"
   ]
  },
  {
   "cell_type": "code",
   "execution_count": 13,
   "id": "29668ac0",
   "metadata": {},
   "outputs": [
    {
     "data": {
      "text/plain": [
       "torch.Size([41, 95])"
      ]
     },
     "execution_count": 13,
     "metadata": {},
     "output_type": "execute_result"
    }
   ],
   "source": [
    "embeddings.shape"
   ]
  }
 ],
 "metadata": {
  "kernelspec": {
   "display_name": "base",
   "language": "python",
   "name": "python3"
  },
  "language_info": {
   "codemirror_mode": {
    "name": "ipython",
    "version": 3
   },
   "file_extension": ".py",
   "mimetype": "text/x-python",
   "name": "python",
   "nbconvert_exporter": "python",
   "pygments_lexer": "ipython3",
   "version": "3.12.8"
  }
 },
 "nbformat": 4,
 "nbformat_minor": 5
}
