{
 "cells": [
  {
   "cell_type": "code",
   "execution_count": 48,
   "id": "aedc241a",
   "metadata": {},
   "outputs": [],
   "source": [
    "import os\n",
    "import json\n",
    "import pandas as pd\n",
    "\n",
    "\n",
    "# Directory containing the JSON files\n",
    "ekg_dir = 'ekg_files'\n",
    "\n",
    "# List to store all DataFrames\n",
    "dfs = []\n",
    "for filename in os.listdir(ekg_dir):\n",
    "    if filename.endswith('.json'):\n",
    "        with open(os.path.join(ekg_dir, filename), 'r', encoding='utf-8') as f:\n",
    "            data = json.load(f)\n",
    "        # Take the first lead (usually \"I\")\n",
    "        if 'leads' in data and len(data['leads']) > 0:\n",
    "            lead = data['leads'][0]\n",
    "            signal = lead.get('signal', [])\n",
    "            # Remove None values from the signal\n",
    "            clean_signal = [x for x in signal if x is not None]\n",
    "            df_tmp = pd.DataFrame({'Signal': clean_signal})\n",
    "            dfs.append([filename.replace('_','/').replace('.json',''), df_tmp])\n",
    "\n",
    "df = pd.read_csv('DANE_mpsi.csv', sep='\\t', encoding='utf-8')\n",
    "kg_to_label = dict(zip(df['KG'], df['zgon']))\n",
    "\n",
    "# Prepare dataset: list of (signal, label) tuples\n",
    "signal_label_dataset = []\n",
    "for kg, signal_df in dfs:\n",
    "    if kg in kg_to_label:\n",
    "        label = kg_to_label[kg]\n",
    "        signal = signal_df['Signal'].values\n",
    "        signal_label_dataset.append((kg,signal, label))"
   ]
  },
  {
   "cell_type": "code",
   "execution_count": 50,
   "id": "9008a9f2",
   "metadata": {},
   "outputs": [],
   "source": [
    "import numpy as np\n",
    "from scipy.signal import find_peaks\n",
    "\n",
    "def extract_rr_intervals(signal, fs=320):\n",
    "    # Find R-peaks (simple thresholding, may need tuning for real data)\n",
    "    peaks, _ = find_peaks(signal, distance=fs*0.2)  # at least 200ms between peaks\n",
    "    rr_intervals = np.diff(peaks) / fs  # in seconds\n",
    "    return rr_intervals\n",
    "\n",
    "# For all signals in signal_label_dataset\n",
    "rr_label_dataset = [(filename,extract_rr_intervals(sig, fs=320), label) for filename,sig, label in signal_label_dataset]"
   ]
  },
  {
   "cell_type": "code",
   "execution_count": 96,
   "id": "c92db094",
   "metadata": {},
   "outputs": [
    {
     "name": "stdout",
     "output_type": "stream",
     "text": [
      "Decision Tree train accuracy: 0.848\n",
      "Decision Tree test accuracy: 0.532\n",
      "Random Forest train accuracy: 0.683\n",
      "Random Forest test accuracy: 0.506\n"
     ]
    }
   ],
   "source": [
    "from sklearn.tree import DecisionTreeClassifier\n",
    "from sklearn.model_selection import train_test_split\n",
    "from sklearn.preprocessing import FunctionTransformer\n",
    "from sklearn.pipeline import make_pipeline\n",
    "from sklearn.impute import SimpleImputer\n",
    "import numpy as np\n",
    "from sklearn.ensemble import RandomForestClassifier\n",
    "\n",
    "# Prepare features and labels\n",
    "X = [rr for _,rr, label in rr_label_dataset]\n",
    "y = [label for _,rr, label in rr_label_dataset]\n",
    "\n",
    "# Pad sequences to the same length for the classifier\n",
    "\n",
    "\n",
    "# Find max length\n",
    "max_len = max(len(rr) for rr in X)\n",
    "X_padded = np.array([np.pad(rr, (0, max_len - len(rr)), 'constant', constant_values=0) for rr in X])\n",
    "\n",
    "# Split data\n",
    "X_train, X_test, y_train, y_test = train_test_split(X_padded, y, test_size=0.2, random_state=1)\n",
    "\n",
    "# Train Decision Tree\n",
    "clf = DecisionTreeClassifier(max_depth=10,random_state=42)\n",
    "clf.fit(X_train, y_train)\n",
    "\n",
    "# Evaluate\n",
    "score = clf.score(X_test, y_test)\n",
    "train_score = clf.score(X_train, y_train)\n",
    "print(f\"Decision Tree train accuracy: {train_score:.3f}\")\n",
    "print(f\"Decision Tree test accuracy: {score:.3f}\")\n",
    "\n",
    "rf_clf = RandomForestClassifier(max_depth=2,min_samples_leaf=25,random_state=42, n_estimators=500)\n",
    "rf_clf.fit(X_train, y_train)\n",
    "\n",
    "rf_train_score = rf_clf.score(X_train, y_train)\n",
    "rf_score = rf_clf.score(X_test, y_test)\n",
    "print(f\"Random Forest train accuracy: {rf_train_score:.3f}\")\n",
    "print(f\"Random Forest test accuracy: {rf_score:.3f}\")\n"
   ]
  }
 ],
 "metadata": {
  "kernelspec": {
   "display_name": "base",
   "language": "python",
   "name": "python3"
  },
  "language_info": {
   "codemirror_mode": {
    "name": "ipython",
    "version": 3
   },
   "file_extension": ".py",
   "mimetype": "text/x-python",
   "name": "python",
   "nbconvert_exporter": "python",
   "pygments_lexer": "ipython3",
   "version": "3.12.8"
  }
 },
 "nbformat": 4,
 "nbformat_minor": 5
}
