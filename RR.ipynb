{
 "cells": [
  {
   "cell_type": "code",
   "id": "9008a9f2",
   "metadata": {
    "ExecuteTime": {
     "end_time": "2025-06-05T15:59:30.473852Z",
     "start_time": "2025-06-05T15:59:25.510961Z"
    }
   },
   "source": [
    "import os\n",
    "import json\n",
    "import pandas as pd\n",
    "\n",
    "# Directory containing the JSON files\n",
    "ekg_dir = 'ekg_files'\n",
    "\n",
    "# List to store all DataFrames\n",
    "dfs = []\n",
    "for filename in os.listdir(ekg_dir):\n",
    "    if filename.endswith('.json'):\n",
    "        with open(os.path.join(ekg_dir, filename), 'r', encoding='utf-8') as f:\n",
    "            data = json.load(f)\n",
    "        # Take the first lead (usually \"I\")\n",
    "        if 'leads' in data and len(data['leads']) > 0:\n",
    "            lead = data['leads'][0]\n",
    "            signal = lead.get('signal', [])\n",
    "            # Remove None values from the signal\n",
    "            clean_signal = [x for x in signal if x is not None]\n",
    "            df_tmp = pd.DataFrame({'Signal': clean_signal})\n",
    "            dfs.append([filename.replace('_','/').replace('.json',''), df_tmp])\n",
    "\n",
    "df = pd.read_csv('DANE_mpsi.csv', sep='\\t', encoding='utf-8')\n",
    "kg_to_label = dict(zip(df['KG'], df['zgon']))\n",
    "\n",
    "# Prepare dataset: list of (signal, label) tuples\n",
    "signal_label_dataset = []\n",
    "for kg, signal_df in dfs:\n",
    "    if kg in kg_to_label:\n",
    "        label = kg_to_label[kg]\n",
    "        signal = signal_df['Signal'].values\n",
    "        signal_label_dataset.append((kg,signal, label))"
   ],
   "outputs": [],
   "execution_count": 1
  },
  {
   "cell_type": "code",
   "id": "aedc241a",
   "metadata": {
    "ExecuteTime": {
     "end_time": "2025-06-05T15:59:32.246219Z",
     "start_time": "2025-06-05T15:59:30.475853Z"
    }
   },
   "source": [
    "import numpy as np\n",
    "from scipy.signal import find_peaks\n",
    "\n",
    "def extract_rr_intervals(signal, fs=320):\n",
    "    # Find R-peaks (simple thresholding, may need tuning)\n",
    "    peaks, _ = find_peaks(signal, distance=fs*0.2)  # at least 200ms between peaks\n",
    "    rr_intervals = np.diff(peaks) / fs  # in seconds\n",
    "    return rr_intervals\n",
    "\n",
    "# For all signals in signal_label_dataset\n",
    "rr_label_dataset = [(filename, extract_rr_intervals(sig, fs=320), label) for filename,sig, label in signal_label_dataset]"
   ],
   "outputs": [],
   "execution_count": 2
  },
  {
   "cell_type": "code",
   "id": "c92db094",
   "metadata": {
    "ExecuteTime": {
     "end_time": "2025-06-05T15:59:35.776948Z",
     "start_time": "2025-06-05T15:59:32.248216Z"
    }
   },
   "source": [
    "from sklearn.tree import DecisionTreeClassifier\n",
    "from sklearn.ensemble import RandomForestClassifier, GradientBoostingClassifier, AdaBoostClassifier\n",
    "from sklearn.linear_model import LogisticRegression\n",
    "from sklearn.svm import SVC\n",
    "from sklearn.neighbors import KNeighborsClassifier\n",
    "from sklearn.naive_bayes import GaussianNB\n",
    "from sklearn.model_selection import train_test_split\n",
    "from sklearn.impute import SimpleImputer\n",
    "from sklearn.preprocessing import StandardScaler\n",
    "from sklearn.pipeline import Pipeline\n",
    "\n",
    "# For all signals in signal_label_dataset\n",
    "rr_label_dataset = [(filename, extract_rr_intervals(sig, fs=320), label) for filename, sig, label in signal_label_dataset]\n",
    "\n",
    "# Prepare features and labels\n",
    "X = [rr for _, rr, label in rr_label_dataset]\n",
    "y = np.array([label for _, rr, label in rr_label_dataset])\n",
    "\n",
    "# Pad sequences to the same length for the classifier\n",
    "max_len = max(len(rr) for rr in X) # Find max length\n",
    "X_padded = np.array([np.pad(rr, (0, max_len - len(rr)), 'constant', constant_values=0) for rr in X])\n",
    "\n",
    "pipeline = Pipeline([\n",
    "\t('imputer', SimpleImputer(strategy='mean')),\n",
    "\t# ('scaler', StandardScaler())\n",
    "])\t\n",
    "\n",
    "X_transformed = pipeline.fit_transform(X_padded)\n",
    "\n",
    "# Split data\n",
    "X_train, X_test, y_train, y_test = train_test_split(X_transformed, y, test_size=0.2, random_state=1)\n",
    "\n",
    "models = [\n",
    "    ('Decision Tree', DecisionTreeClassifier(max_depth=10, random_state=42)),\n",
    "    ('Random Forest', RandomForestClassifier(max_depth=2, min_samples_leaf=25, random_state=42, n_estimators=500)),\n",
    "    ('Gradient Boosting', GradientBoostingClassifier(n_estimators=200, learning_rate=0.05, random_state=42)),\n",
    "    ('AdaBoost', AdaBoostClassifier(n_estimators=200, random_state=42)),\n",
    "    ('Logistic Regression', LogisticRegression(max_iter=1000, random_state=42)),\n",
    "    ('SVM (RBF)', SVC(kernel='rbf', C=1.0, gamma='scale', probability=True, random_state=42)),\n",
    "    ('KNN', KNeighborsClassifier(n_neighbors=5)),\n",
    "    ('Naive Bayes', GaussianNB()),\n",
    "]\n",
    "\n",
    "for name, model in models:\n",
    "\t# Train the model\n",
    "\tmodel.fit(X_train, y_train)\n",
    "\t\n",
    "\t# Evaluate the model\n",
    "\ttrain_score = model.score(X_train, y_train)\n",
    "\ttest_score = model.score(X_test, y_test)\n",
    "\t\n",
    "\tprint(f\"{name} train accuracy: {train_score:.3f}\")\n",
    "\tprint(f\"{name} test accuracy: {test_score:.3f}\")"
   ],
   "outputs": [
    {
     "name": "stdout",
     "output_type": "stream",
     "text": [
      "Decision Tree train accuracy: 0.848\n",
      "Decision Tree test accuracy: 0.532\n",
      "Random Forest train accuracy: 0.683\n",
      "Random Forest test accuracy: 0.506\n",
      "Gradient Boosting train accuracy: 0.946\n",
      "Gradient Boosting test accuracy: 0.506\n",
      "AdaBoost train accuracy: 0.797\n",
      "AdaBoost test accuracy: 0.532\n",
      "Logistic Regression train accuracy: 0.641\n",
      "Logistic Regression test accuracy: 0.519\n",
      "SVM (RBF) train accuracy: 0.651\n",
      "SVM (RBF) test accuracy: 0.519\n",
      "KNN train accuracy: 0.689\n",
      "KNN test accuracy: 0.506\n",
      "Naive Bayes train accuracy: 0.486\n",
      "Naive Bayes test accuracy: 0.468\n"
     ]
    }
   ],
   "execution_count": 3
  },
  {
   "cell_type": "code",
   "id": "efb84096",
   "metadata": {
    "ExecuteTime": {
     "end_time": "2025-06-05T16:00:05.741875Z",
     "start_time": "2025-06-05T15:59:35.778952Z"
    }
   },
   "source": [
    "from sklearn.model_selection import GridSearchCV\n",
    "\n",
    "# Define parameter grid\n",
    "param_grid = {\n",
    "    'C': [0.01, 0.1, 1, 10, 100],\n",
    "    'gamma': ['scale', 'auto', 1, 0.1, 0.01, 0.001, 0.0001],\n",
    "    'kernel': ['rbf', 'poly', 'sigmoid'],\n",
    "    'degree': [2, 3, 4],\n",
    "    'coef0': [0.0, 0.1, 0.5, 1.0] \n",
    "}\n",
    "\n",
    "# Initialize base model\n",
    "svc = SVC(probability=True, random_state=42)\n",
    "\n",
    "# Perform grid search\n",
    "grid_search = GridSearchCV(estimator=svc, param_grid=param_grid, cv=5, scoring='accuracy', n_jobs=-1)\n",
    "grid_search.fit(X_train, y_train)\n",
    "\n",
    "print(\"Best parameters:\", grid_search.best_params_)\n",
    "print(\"Best cross-validated accuracy:\", grid_search.best_score_)\n",
    "print(\"Test set accuracy:\", grid_search.score(X_test, y_test))"
   ],
   "outputs": [
    {
     "name": "stdout",
     "output_type": "stream",
     "text": [
      "Best parameters: {'C': 10, 'coef0': 1.0, 'degree': 3, 'gamma': 'scale', 'kernel': 'poly'}\n",
      "Best cross-validated accuracy: 0.5777777777777777\n",
      "Test set accuracy: 0.4810126582278481\n"
     ]
    }
   ],
   "execution_count": 4
  },
  {
   "cell_type": "markdown",
   "id": "cd1b0aa5",
   "metadata": {},
   "source": [
    "Worse than guessing..."
   ]
  }
 ],
 "metadata": {
  "kernelspec": {
   "display_name": "base",
   "language": "python",
   "name": "python3"
  },
  "language_info": {
   "codemirror_mode": {
    "name": "ipython",
    "version": 3
   },
   "file_extension": ".py",
   "mimetype": "text/x-python",
   "name": "python",
   "nbconvert_exporter": "python",
   "pygments_lexer": "ipython3",
   "version": "3.10.9"
  }
 },
 "nbformat": 4,
 "nbformat_minor": 5
}
